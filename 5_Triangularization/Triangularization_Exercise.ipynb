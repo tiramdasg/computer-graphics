{
 "cells": [
  {
   "attachments": {},
   "cell_type": "markdown",
   "metadata": {},
   "source": [
    "<table style=\"width: 100%; border-style: none\">\n",
    " <tbody>\n",
    "  <tr style=\"border-style: none\">\n",
    "   <td style=\"border-style: none; width: 1%; text-align: left; font-size: 16px\">Institute for Biomedical Imaging<br />Hamburg University of Technology</td>\n",
    "   <td style=\"border-style: none; width: 1%; font-size: 16px\">&nbsp;</td>\n",
    "   <td style=\"border-style: none; width: 1%; text-align: right; font-size: 16px\">Dr. Martin Möddel<br />Marija Boberg<br />Mirco Grosser</td>\n",
    "  </tr>\n",
    " </tbody>\n",
    "</table>\n",
    "<hr>\n",
    "<h1 style=\"font-weight:bold; text-align: center; margin: 0px; padding:0px;\">Computer Graphics</h1>\n",
    "<h1 style=\"font-weight:bold; text-align: center; margin: 0px; padding:0px;\">Exercise 5 - Triangularization</h1>\n",
    "<h3 style=\"font-weight:bold; text-align: center; margin: 0px; padding:0px; margin-bottom: 20px;\">summer term 2023</h3>\n",
    "<hr>\n",
    "\n",
    "* 📅 Due date: 13.06.2023, 11 a.m.\n",
    "* You can earn 2 points for each task (8 points in total)."
   ]
  },
  {
   "attachments": {},
   "cell_type": "markdown",
   "metadata": {},
   "source": [
    "## 0. Get started\n",
    "\n",
    "The starting point of the exercise is the type `Obj3D` with its plotting routine. An `Obj3D` contains three elements:\n",
    "* The `name` of the object.\n",
    "* A list of vertices is stored in an array `vertices` where each entry is an `SVector{3,Float32}` containing the coordinates of a vertex. \n",
    "* Each entry in the array `faces` is an `SVector{3,UInt16}` containing the indices of three vertices, which form a triangle. "
   ]
  },
  {
   "cell_type": "code",
   "execution_count": 3,
   "metadata": {},
   "outputs": [
    {
     "data": {
      "text/plain": [
       "plot (generic function with 5 methods)"
      ]
     },
     "metadata": {},
     "output_type": "display_data"
    }
   ],
   "source": [
    "using StaticArrays, Plots, LinearAlgebra\n",
    "gr()\n",
    "\n",
    "\n",
    "# create a composite type to store the information required to describe a 3D object\n",
    "abstract type Obj\n",
    "end\n",
    "\n",
    "mutable struct Obj3D <: Obj\n",
    "    name::String\n",
    "    # a list of 3D vertices \n",
    "    vertices::Array{SVector{3,Float32},1}\n",
    "    # a list of triples\n",
    "    # each triple references three vertices, which form a triangle\n",
    "    faces::Array{SVector{3,UInt16},1}\n",
    "\n",
    "    Obj3D() = new(\"\",SVector{3,Float32}[],SVector{3,UInt16}[])\n",
    "end\n",
    "\n",
    "import Plots.plot\n",
    "\n",
    "function plot(obj::Obj;xlim=(-2,2),ylim=(-2,2),verbose::Bool=true)\n",
    "    p = plot(leg=false, xlim=xlim,ylim=ylim)\n",
    "    for face in obj.faces\n",
    "        x = [obj.vertices[i][1] for i in face[[1,2,3,1]]]\n",
    "        y = [obj.vertices[i][2] for i in face[[1,2,3,1]]]\n",
    "    \n",
    "        plot!(x,y,line=(:black,),aspect_ratio=1)\n",
    "    end\n",
    "    \n",
    "    verbose && println(\"$(length(obj.faces)) faces are drawn\")\n",
    "    return p\n",
    "end"
   ]
  },
  {
   "attachments": {},
   "cell_type": "markdown",
   "metadata": {},
   "source": [
    "# Marching Triangularization\n",
    "\n",
    "We want to implement the method for triangularization you discussed in the lecture for a sphere. The sphere is given as an implicit surface by\n",
    "\\begin{equation}\n",
    "f(x,y,z) = x^2+y^2+z^2-r^2.\n",
    "\\end{equation}\n",
    "Choose $r=1$."
   ]
  },
  {
   "attachments": {},
   "cell_type": "markdown",
   "metadata": {},
   "source": [
    "## 1. Gradient Projection\n",
    "\n",
    "* Implement a function `gradientProjection(p::SVector{3,Float32},f::Function,gradf::Function;ε=1e-5)` that takes a point `p`  and projects it onto the surface described by a function `f(x,y,z)`. In addition, you need a function `gradf(x,y,z)`, which returns the gradient of `f` at a given point. Here `ε` is the tolerance used for stopping the algorithm.\n",
    "\n",
    "* Implement a function `surfaceNormal(p::SVector{3,Float32},gradf::Function)`  to calculate the surface normal at a given point. Also implement a function `tangentVectors(n::SVector{3,Float32})` to get tangent vectors orthogonal to a normal vector `n`.\n",
    "\n",
    "Test your functions by applying them to the point $\\mathbf{p} = (1,1,1)$ and the sphere given by `f` and its derivative `gradf`:\n",
    "```julia\n",
    "using Test\n",
    "@testset \"Gradient Projection\" begin\n",
    "  p = @SVector ones(Float32,3)\n",
    "  u = gradientProjection(p,f,gradf)\n",
    "  n = surfaceNormal(p,gradf)\n",
    "  t = tangentVectors(n)\n",
    "\n",
    "  @test isapprox(u,Float32[0.57735026, 0.57735026, 0.57735026])\n",
    "  @test isapprox(n,[0.57735026, 0.57735026, 0.57735026])\n",
    "  @test isapprox(t[1],Float32[0.70710677, -0.70710677, 0.0])\n",
    "  @test isapprox(t[2],Float32[0.40824828, 0.40824828, -0.81649655])\n",
    "end;\n",
    "```"
   ]
  },
  {
   "cell_type": "code",
   "execution_count": 4,
   "metadata": {},
   "outputs": [
    {
     "data": {
      "text/plain": [
       "tangentVectors (generic function with 1 method)"
      ]
     },
     "metadata": {},
     "output_type": "display_data"
    }
   ],
   "source": [
    "function gradientProjection(p::SVector{3,Float32}, f::Function, gradf::Function; ε=1e-5)\n",
    "    u = []\n",
    "    push!(u, p) #u_0\n",
    "\n",
    "    #first u_k+1 calculation\n",
    "    push!(u, u[1] - f(u[1]...) / dot(gradf(u[1]...), gradf(u[1]...)) .* gradf(u[1]...))\n",
    "    if norm(u[2]-u[1]) < ε\n",
    "        return u[2]\n",
    "    end    \n",
    "\n",
    "    #repetition until norm is small enough\n",
    "    while true\n",
    "        u[1] = u[2] - f(u[2]...) / dot(gradf(u[2]...), gradf(u[2]...)) .* gradf(u[2]...)\n",
    "        if norm(u[1]-u[2]) < ε\n",
    "            return u[1]\n",
    "        end\n",
    "        \n",
    "        #ping-pong between u_1 and u_2\n",
    "        u[2] = u[1] - f(u[1]...) / dot(gradf(u[1]...), gradf(u[1]...)) .* gradf(u[1]...)\n",
    "        if norm(u[2]-u[1]) < ε\n",
    "            return u[2]\n",
    "        end\n",
    "    end\n",
    "end\n",
    "\n",
    "function surfaceNormal(p::SVector{3,Float32},gradf::Function) \n",
    "    return normalize(gradf(p...))\n",
    "end\n",
    "\n",
    "function tangentVectors(n::SVector{3,Float32})\n",
    "    t = Array{SVector{3, Float32}}(undef,2)\n",
    "    \n",
    "    if n[1] > 0.5 || n[2] > 0.5\n",
    "        t[1] = normalize(SVector{3, Float32}(n[2], -n[1], 0))\n",
    "    else\n",
    "        t[1] = normalize(SVector{3, Float32}(-n[3], 0, n[1]))\n",
    "    end\n",
    "    \n",
    "    t[2] = cross(n, t[1])\n",
    "    return t\n",
    "end"
   ]
  },
  {
   "cell_type": "code",
   "execution_count": 5,
   "metadata": {},
   "outputs": [
    {
     "name": "stdout",
     "output_type": "stream",
     "text": [
      "\u001b[0m\u001b[1mTest Summary:       | \u001b[22m\u001b[32m\u001b[1mPass  \u001b[22m\u001b[39m\u001b[36m\u001b[1mTotal  \u001b[22m\u001b[39m\u001b[0m\u001b[1mTime\u001b[22m\n",
      "Gradient Projection | \u001b[32m   4  \u001b[39m\u001b[36m    4  \u001b[39m\u001b[0m1.2s\n"
     ]
    },
    {
     "data": {
      "text/plain": [
       "Test.DefaultTestSet(\"Gradient Projection\", Any[Test.DefaultTestSet(\"Sphere\", Any[], 4, false, false, true, 1.68624378176e9, 1.686243782955e9)], 0, false, false, true, 1.686243781728e9, 1.686243782955e9)"
      ]
     },
     "metadata": {},
     "output_type": "display_data"
    }
   ],
   "source": [
    "using Test\n",
    "\n",
    "@testset \"Gradient Projection\" begin\n",
    "    # function f(x, y, z) for the sphere\n",
    "    f(x, y, z) = x^2 + y^2 + z^2 - 1.0f0\n",
    "\n",
    "    # gradient of f(x, y, z) for the sphere\n",
    "    gradf(x, y, z) = @SVector([2 * x, 2 * y, 2 * z])\n",
    "\n",
    "    # test gradient projection, surface normal, and tangent vectors functions\n",
    "    @testset \"Sphere\" begin\n",
    "        p = @SVector([1.0f0, 1.0f0, 1.0f0])\n",
    "        u = gradientProjection(p, f, gradf)\n",
    "        n = surfaceNormal(p, gradf)\n",
    "        t = tangentVectors(n)\n",
    "\n",
    "        @test isapprox(u, @SVector([0.57735026, 0.57735026, 0.57735026]))\n",
    "        @test isapprox(n, @SVector([0.57735026, 0.57735026, 0.57735026]))\n",
    "        @test isapprox(t[1], @SVector([0.70710677, -0.70710677, 0.0]))\n",
    "        @test isapprox(t[2], @SVector([0.40824828, 0.40824828, -0.81649655]))\n",
    "    end\n",
    "end"
   ]
  },
  {
   "attachments": {},
   "cell_type": "markdown",
   "metadata": {},
   "source": [
    "## 2. Hexagon Initialization \n",
    "\n",
    "Implement a function \n",
    "```julia\n",
    "hexagonInitialization(sp::SVector{3,Float32},δ::Float32,f::Function,gradf::Function)\n",
    "```  \n",
    "which returns the primary outer front polygon.\n",
    "\n",
    "Choose a starting point `sp` and project it onto the surface. Then build a hexagon, with side length `δ`, in the tangent space of the first vertex and project it onto the surface. The resulting hexagon describes the primary outer front polygon. Save the vertices and triangles to an object `Obj3D` and return the latter as well.\n",
    "\n",
    "* In order to store all relevant information, use the following `type FrontPolygon`.\n",
    "* Adding and deleting a vertex can be achieved with the convenience functions implemented below.\n",
    "\n",
    "Plot the result for the sphere given by `f` and its derivative `gradf`.\n",
    "```julia\n",
    "δ = 0.2f0\n",
    "sp = SVector{3,Float32}(0,2,4)\n",
    "sphere, fp = hexagonInitialization(sp,δ,f,gradf)\n",
    "plot(sphere)\n",
    "```"
   ]
  },
  {
   "cell_type": "code",
   "execution_count": 6,
   "metadata": {},
   "outputs": [
    {
     "data": {
      "text/plain": [
       "deleteVertex (generic function with 1 method)"
      ]
     },
     "metadata": {},
     "output_type": "display_data"
    }
   ],
   "source": [
    "mutable struct FrontPolygon\n",
    "    #sorted vertices\n",
    "    vertices::Array{SVector{3,Float32},1}\n",
    "    # corresponding surface normals\n",
    "    normals::Array{SVector{3,Float32},1}\n",
    "    # corresponding tangent vectors\n",
    "    tangent1::Array{SVector{3,Float32},1}\n",
    "    tangent2::Array{SVector{3,Float32},1}\n",
    "    # array for distance check query\n",
    "    distCheck::Array{Bool,1}\n",
    "    \n",
    "    FrontPolygon() = new(SVector{3,Float32}[],SVector{3,Float32}[],SVector{3,Float32}[],SVector{3,Float32}[],Bool[])\n",
    "end\n",
    "\n",
    "# add a new vertex to a front polygon and calculate normal and tangent vectors\n",
    "# gradf is the gradient of the function describing an implicit surface\n",
    "function addVertex(fp::FrontPolygon,v::SVector{3,Float32},gradf::Function)\n",
    "    push!(fp.vertices,v)\n",
    "    n = surfaceNormal(v,gradf)\n",
    "    push!(fp.normals,n)\n",
    "    t = tangentVectors(n)\n",
    "    push!(fp.tangent1,t[1])\n",
    "    push!(fp.tangent2,t[2])\n",
    "    push!(fp.distCheck,true)\n",
    "end\n",
    "\n",
    "# insert a new vertex to a front polygon at index ind. Calculate normal and tangent vectors.\n",
    "# gradf is the gradient of the function describing an implicit surface\n",
    "function addVertex(fp::FrontPolygon,v::SVector{3,Float32},ind::Int,gradf::Function)\n",
    "    insert!(fp.vertices,ind,v)\n",
    "    n = surfaceNormal(v,gradf)\n",
    "    insert!(fp.normals,ind,n)\n",
    "    t = tangentVectors(n)\n",
    "    insert!(fp.tangent1,ind,t[1])\n",
    "    insert!(fp.tangent2,ind,t[2])\n",
    "    insert!(fp.distCheck,ind,true)\n",
    "end\n",
    "\n",
    "# copy a vertex with normal vector, tangential vectors and distance check from one front\n",
    "# polygon (fp2 at index ind2) to another (fp at index ind)\n",
    "function copyVertex(fp::FrontPolygon,fp2::FrontPolygon,ind::Int,ind2::Int)\n",
    "    insert!(fp.vertices,ind,fp2.vertices[ind2])\n",
    "    insert!(fp.normals,ind,fp2.normals[ind2])\n",
    "    insert!(fp.tangent1,ind,fp2.tangent1[ind2])\n",
    "    insert!(fp.tangent2,ind,fp2.tangent2[ind2])\n",
    "    insert!(fp.distCheck,ind,fp2.distCheck[ind2])\n",
    "end\n",
    "\n",
    "# delete a vertex with its corresponding values at index ind\n",
    "function deleteVertex(fp::FrontPolygon,ind::Int)\n",
    "    deleteat!(fp.vertices,ind)\n",
    "    deleteat!(fp.normals,ind)\n",
    "    deleteat!(fp.tangent1,ind)\n",
    "    deleteat!(fp.tangent2,ind)\n",
    "    deleteat!(fp.distCheck,ind)\n",
    "end"
   ]
  },
  {
   "cell_type": "code",
   "execution_count": 7,
   "metadata": {},
   "outputs": [
    {
     "data": {
      "text/plain": [
       "hexagonInitialization (generic function with 1 method)"
      ]
     },
     "metadata": {},
     "output_type": "display_data"
    }
   ],
   "source": [
    "function hexagonInitialization(sp::SVector{3,Float32},δ::Float32,f::Function,gradf::Function)\n",
    "    #initial point on surface\n",
    "    point_0   = gradientProjection(sp,f,gradf)\n",
    "    norm_0    = surfaceNormal(point_0,gradf)\n",
    "    tangent_0 = tangentVectors(norm_0)\n",
    "\n",
    "    #first front polygon\n",
    "    front = FrontPolygon()\n",
    "    \n",
    "    for i=1:6\n",
    "        # vertices q1, . . . , q6 of the initial hexagon\n",
    "        qi = SVector{3,Float32}(point_0 + δ*cos((i-1)*pi/3).*tangent_0[1] + δ*sin((i-1)*pi/3).*tangent_0[2])\n",
    "\n",
    "        # project to get point p1 to p6 on surface\n",
    "        hex_point = gradientProjection(qi,f,gradf)\n",
    "\n",
    "        # add vertex p1 to p6 to front polygon\n",
    "        addVertex(front, hex_point, gradf)\n",
    "    end\n",
    "    \n",
    "    obj = Obj3D()\n",
    "    #center of hexagon p0\n",
    "    push!(obj.vertices, point_0)\n",
    "    \n",
    "    for i=1:6\n",
    "        #outer vertices of hexagon Π_0 = {p1, . . . , p6} on the surface\n",
    "        push!(obj.vertices, front.vertices[i])\n",
    "\n",
    "        #faces of hexagon (p0, p1, p2), (p0, p2, p3), (p0, p3, p4), (p0, p4, p5), (p0, p5, p6), and (p0, p6, p1)\n",
    "        push!(obj.faces, [1, i+1, mod(i,6)+2])\n",
    "    end\n",
    "    \n",
    "    return obj, front\n",
    "end"
   ]
  },
  {
   "cell_type": "code",
   "execution_count": 9,
   "metadata": {},
   "outputs": [
    {
     "name": "stdout",
     "output_type": "stream",
     "text": [
      "6 faces are drawn\n"
     ]
    }
   ],
   "source": [
    "# to test above code\n",
    "δ = 0.2f0\n",
    "sp = SVector{3,Float32}(0, 2, 4)\n",
    "\n",
    "f(x, y, z) = x^2 + y^2 + z^2 - 1.0f0\n",
    "gradf(x, y, z) = @SVector([2 * x, 2 * y, 2 * z])\n",
    "\n",
    "sphere, fp = hexagonInitialization(sp, δ, f, gradf)\n",
    "plot(sphere)\n"
   ]
  },
  {
   "attachments": {},
   "cell_type": "markdown",
   "metadata": {},
   "source": [
    "## 3. Angles of the Front Polygon\n",
    "\n",
    "Implement a function `frontAngles(fp::FrontPolygon)`, which calculates the front angles of a front polygon.\n",
    "\n",
    "To calculate the coordinate transformation to the local coordinate system of each vertex ($\\mathbf v = \\mathbf p_i + \\eta \\mathbf n_i + \\tau \\mathbf t_{i1} +\\vartheta \\mathbf t_{i2}$), you may use the function `localCoords`. Analogously, the inverse transform can be computed using the function `globalCoords`:\n",
    "```julia\n",
    "hSpace(v::SVector{3,Float32}) = SVector{4,Float32}(v[1],v[2],v[3],1)\n",
    "nSpace(v::SVector{4,Float32}) = SVector{3,Float32}(v[1]/v[4],v[2]/v[4],v[3]/v[4])\n",
    "\n",
    "function localCoords(v::SVector{3,Float32},p::SVector{3,Float32},n::SVector{3,Float32},t1::SVector{3,Float32},t2::SVector{3,Float32})\n",
    "    A = SMatrix{4,4,Float32}(1,0,0,0, 0,1,0,0, 0,0,1,0, -p[1],-p[2],-p[3],1)\n",
    "    B = SMatrix{4,4,Float32}(n[1],t1[1],t2[1],0, n[2],t1[2],t2[2],0, n[3],t1[3],t2[3],0, 0,0,0,1)\n",
    "    return nSpace(B*A*hSpace(v))\n",
    "end\n",
    "\n",
    "function globalCoords(v::SVector{3,Float32},p::SVector{3,Float32},n::SVector{3,Float32},t1::SVector{3,Float32},t2::SVector{3,Float32})\n",
    "    A = SMatrix{4,4,Float32}(1,0,0,0, 0,1,0,0, 0,0,1,0, p[1],p[2],p[3],1)\n",
    "    B = SMatrix{4,4,Float32}(n[1],t1[1],t2[1],0, n[2],t1[2],t2[2],0, n[3],t1[3],t2[3],0, 0,0,0,1)'\n",
    "    return nSpace(A*B*hSpace(v))\n",
    "end\n",
    "```\n",
    "\n",
    "Compute the front angles of the first front polygon of the sphere by testing your code with\n",
    "```julia\n",
    "@testset \"Front Angles\" begin\n",
    "    \n",
    "  @test isapprox(frontAngles(fp),4.171891 .* ones(6))\n",
    "end;\n",
    "```"
   ]
  },
  {
   "cell_type": "code",
   "execution_count": 23,
   "metadata": {},
   "outputs": [
    {
     "data": {
      "text/plain": [
       "frontAngles (generic function with 1 method)"
      ]
     },
     "metadata": {},
     "output_type": "display_data"
    }
   ],
   "source": [
    "using LinearAlgebra\n",
    "\n",
    "hSpace(v::SVector{3,Float32}) = SVector{4,Float32}(v[1], v[2], v[3], 1)\n",
    "nSpace(v::SVector{4,Float32}) = SVector{3,Float32}(v[1] / v[4], v[2] / v[4], v[3] / v[4])\n",
    "\n",
    "\n",
    "function localCoords(v::SVector{3,Float32}, p::SVector{3,Float32}, n::SVector{3,Float32}, t1::SVector{3,Float32}, t2::SVector{3,Float32})\n",
    "    A = SMatrix{4,4,Float32}(1, 0, 0, 0, 0, 1, 0, 0, 0, 0, 1, 0, -p[1], -p[2], -p[3], 1)\n",
    "    B = SMatrix{4,4,Float32}(n[1], t1[1], t2[1], 0, n[2], t1[2], t2[2], 0, n[3], t1[3], t2[3], 0, 0, 0, 0, 1)\n",
    "    return nSpace(B * A * hSpace(v))\n",
    "end\n",
    "\n",
    "function globalCoords(v::SVector{3,Float32}, p::SVector{3,Float32}, n::SVector{3,Float32}, t1::SVector{3,Float32}, t2::SVector{3,Float32})\n",
    "    A = SMatrix{4,4,Float32}(1, 0, 0, 0, 0, 1, 0, 0, 0, 0, 1, 0, p[1], p[2], p[3], 1)\n",
    "    B = SMatrix{4,4,Float32}(n[1], t1[1], t2[1], 0, n[2], t1[2], t2[2], 0, n[3], t1[3], t2[3], 0, 0, 0, 0, 1)'\n",
    "    return nSpace(A * B * hSpace(v))\n",
    "end\n",
    "\n",
    "function frontAngles(fp::FrontPolygon)\n",
    "    angles = Float32[]\n",
    "    num_vertices = length(fp.vertices)\n",
    "\n",
    "    for i = 1:num_vertices\n",
    "        v1 = fp.vertices[mod1(i-1, num_vertices)]\n",
    "        v2 = fp.vertices[mod1(i+1, num_vertices)]\n",
    "\n",
    "        local_coords_v1 = localCoords(v1, fp.vertices[i], fp.normals[i], fp.tangent1[i], fp.tangent2[i])\n",
    "        local_coords_v2 = localCoords(v2, fp.vertices[i], fp.normals[i], fp.tangent1[i], fp.tangent2[i])\n",
    "\n",
    "        phi1 = atan(local_coords_v1[3], local_coords_v1[2])\n",
    "        phi2 = atan(local_coords_v2[3], local_coords_v2[2])\n",
    "\n",
    "        angle = (phi2 >= phi1) ? (phi2 - phi1) : (2*pi + phi2 - phi1)\n",
    "        push!(angles, angle)\n",
    "    end\n",
    "\n",
    "    return angles\n",
    "end\n",
    "\n"
   ]
  },
  {
   "cell_type": "code",
   "execution_count": 24,
   "metadata": {},
   "outputs": [
    {
     "name": "stdout",
     "output_type": "stream",
     "text": [
      "\u001b[0m\u001b[1mTest Summary: | \u001b[22m\u001b[32m\u001b[1mPass  \u001b[22m\u001b[39m\u001b[36m\u001b[1mTotal  \u001b[22m\u001b[39m\u001b[0m\u001b[1mTime\u001b[22m\n",
      "Front Angles  | \u001b[32m   1  \u001b[39m\u001b[36m    1  \u001b[39m\u001b[0m0.1s\n"
     ]
    },
    {
     "data": {
      "text/plain": [
       "Test.DefaultTestSet(\"Front Angles\", Any[], 1, false, false, true, 1.686244203961e9, 1.686244204071e9)"
      ]
     },
     "metadata": {},
     "output_type": "display_data"
    }
   ],
   "source": [
    "\n",
    "using Test\n",
    "\n",
    "@testset \"Front Angles\" begin\n",
    "    @test isapprox(frontAngles(fp), 4.171891 .* ones(6))\n",
    "end\n"
   ]
  },
  {
   "attachments": {},
   "cell_type": "markdown",
   "metadata": {},
   "source": [
    "## 4. Triangle Creation\n",
    "\n",
    "Create triangles around the point with minimal front angle.\n",
    "\n",
    "Implement a function `triangleCreation` that keeps adding triangles to the front polygon. The method should stop as soon as there exist two vertices with a distance smaller then $\\delta /2$, which are neither neighbours nor neighbours of neighbours. This condition can be tested using the method `breakCondition` implemented below.\n",
    "\n",
    "For storing new triangles in an existing `Obj3D`, `findVertex` will give you the index of the object vertices.\n",
    "\n",
    "The matrix for a rotation around the normal vector in the local coordinate system of the vertices by $\\alpha$ can be calculated with the method `rotation_n`.\n",
    "\n",
    "* Test your code with \n",
    "```julia\n",
    "sphere = Obj3D()\n",
    "fp = hexagonInitialization(sphere,sp,δ,f,gradf)\n",
    "triangleCreation(fp,sphere,δ,f,gradf)\n",
    "plot(sphere)\n",
    "```\n",
    "\n",
    "* Also test your code with a torus for which the implicit surface is given by\n",
    "\\begin{equation}\n",
    "g(x,y,z) = \\left(\\sqrt{x^2+y^2}-R\\right)^2+z^2-r^2\n",
    "\\end{equation}\n",
    "with $R=3$ and $r=1$\n",
    "```julia\n",
    "torus = Obj3D()\n",
    "fpT = hexagonInitialization(torus,sp,δ,g,gradg)\n",
    "triangleCreation(fpT,torus,δ,g,gradg)\n",
    "plot(torus,xlim=(-4,4),ylim=(-4,4))\n",
    "```"
   ]
  },
  {
   "cell_type": "code",
   "execution_count": 12,
   "metadata": {},
   "outputs": [
    {
     "data": {
      "text/plain": [
       "breakCondition (generic function with 1 method)"
      ]
     },
     "metadata": {},
     "output_type": "display_data"
    }
   ],
   "source": [
    "function findVertex(obj::Obj3D,v::SVector{3,Float32})\n",
    "    for i=1:length(obj.vertices)\n",
    "        if isapprox(obj.vertices[i],v,atol=1e-5)\n",
    "            return i\n",
    "        end\n",
    "    end\n",
    "    return 0\n",
    "end\n",
    "\n",
    "function rotation_n(α)\n",
    "    return SMatrix{4,4,Float32}(1,0,0,0 ,0,cos(α),sin(α),0 ,0,-sin(α),cos(α),0 ,0,0,0,1)\n",
    "end\n",
    "\n",
    "function breakCondition(fp::FrontPolygon,δ::Float32)\n",
    "    for i=1:length(fp.vertices)\n",
    "        if i==1\n",
    "            J = length(fp.vertices)-2\n",
    "        elseif i==2\n",
    "            J = length(fp.vertices)-1\n",
    "        else\n",
    "            J = length(fp.vertices)\n",
    "        end\n",
    "        for j=i+2:J\n",
    "            if norm(fp.vertices[i]-fp.vertices[j],2) < δ/2\n",
    "                return true\n",
    "            end\n",
    "        end\n",
    "    end\n",
    "    \n",
    "    return false\n",
    "end"
   ]
  }
 ],
 "metadata": {
  "@webio": {
   "lastCommId": null,
   "lastKernelId": null
  },
  "hide_input": false,
  "kernelspec": {
   "display_name": "Julia 1.8.5",
   "language": "julia",
   "name": "julia-1.8"
  },
  "language_info": {
   "file_extension": ".jl",
   "mimetype": "application/julia",
   "name": "julia",
   "version": "1.8.5"
  }
 },
 "nbformat": 4,
 "nbformat_minor": 2
}
