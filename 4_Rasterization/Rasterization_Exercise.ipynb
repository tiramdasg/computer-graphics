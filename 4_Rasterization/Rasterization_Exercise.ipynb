{
 "cells": [
  {
   "attachments": {},
   "cell_type": "markdown",
   "metadata": {},
   "source": [
    "<table style=\"width: 100%; border-style: none\">\n",
    " <tbody>\n",
    "  <tr style=\"border-style: none\">\n",
    "   <td style=\"border-style: none; width: 1%; text-align: left; font-size: 16px\">Institute for Biomedical Imaging<br />Hamburg University of Technology</td>\n",
    "   <td style=\"border-style: none; width: 1%; font-size: 16px\">&nbsp;</td>\n",
    "   <td style=\"border-style: none; width: 1%; text-align: right; font-size: 16px\">Dr. Martin Möddel<br />Marija Boberg<br />Mirco Grosser</td>\n",
    "  </tr>\n",
    " </tbody>\n",
    "</table>\n",
    "<hr>\n",
    "<h1 style=\"font-weight:bold; text-align: center; margin: 0px; padding:0px;\">Computer Graphics</h1>\n",
    "<h1 style=\"font-weight:bold; text-align: center; margin: 0px; padding:0px;\">Exercise 4 - Rasterization</h1>\n",
    "<h3 style=\"font-weight:bold; text-align: center; margin: 0px; padding:0px; margin-bottom: 20px;\">summer term 2023</h3>\n",
    "<hr>\n",
    "\n",
    "* 📅 Due date: 30.05.2022, 11 a.m.\n",
    "* You can earn 1 point for each task (5 points in total).\n",
    "* 💣 The last two tasks are small coding challenges for those interested (1 bonus point each)."
   ]
  },
  {
   "attachments": {},
   "cell_type": "markdown",
   "metadata": {},
   "source": [
    "### 1. Rendering a Sphere\n",
    "While the last exercise primarily dealt with simple 2-dimensional objects, we are now going to render more complex 3-dimensional objects. In order to render such objects we need a way to load the vertices and the indices making up each face from files.\n",
    "For this purpose consider the following code, which extracts the given information from obj-files.\n",
    "\n",
    "With this code at hand, load the sphere contained in the file `sphere.obj` and render it. This involves the following steps:\n",
    "* store the vertices in a VBO and create an EBO for the indices making up the faces. \n",
    "* link the VBO to the current VAO.\n",
    "* implement simple shaders such that each fragment is renderd in a fixed color that you like\n",
    "\n",
    "For illustration also draw the wireframe of the primitives. This can be achieved by setting the plotting mode to wireframe mode, using `glPolygonMode(GL_FRONT_AND_BACK, GL_LINE)`.\n",
    "\n",
    "\n",
    "*Remarks:*\n",
    "* For this exercise, you need to add the packages `FileIO`, `ImageMagick`, and `ImageIO`.\n",
    "* The file `utils.jl` contains the functions `initWindow`, `key_callback` and `compileShaderProgram`, which were implemented in the last exercise."
   ]
  },
  {
   "cell_type": "code",
   "execution_count": 1,
   "metadata": {},
   "outputs": [
    {
     "data": {
      "text/plain": [
       "(Float32[0.0, 0.31304953, -0.62609905, -0.25997347, 0.29065916, -0.5813183, -0.12998672, 0.089284554, -0.6820057, 0.12998672  …  0.46769315, -0.26078948, -0.33109915, 0.55889374, -0.34986234, -0.08524055, 0.6002753, -0.41123065, 0.12993482, 0.55136764], UInt32[0x00000000, 0x00000001, 0x00000002, 0x00000000, 0x00000002, 0x00000003, 0x00000000, 0x00000003, 0x00000004, 0x00000000  …  0x00000076, 0x00000070, 0x0000006f, 0x00000076, 0x0000006f, 0x0000006e, 0x00000076, 0x00000076, 0x00000075, 0x0000006e])"
      ]
     },
     "metadata": {},
     "output_type": "display_data"
    }
   ],
   "source": [
    "function load_obj(filename::String, scale=0.7)\n",
    "    vertices = Array{Float32}(undef,0)\n",
    "    indices = Array{UInt32}(undef,0)\n",
    "\n",
    "    # read .obj file line for line\n",
    "    for line in readlines(filename)\n",
    "        if line[1:2] == \"v \"\n",
    "            # read the x, y and z position of each vertex\n",
    "            strvals = split(line,' ')[2:4]\n",
    "            push!(vertices,map(x->parse(Float32,x),strvals)...)\n",
    "            vertices[end] *= -1\n",
    "        elseif line[1:2] == \"f \"\n",
    "            # read the triple of references\n",
    "            strvals = split(line,[' '])[2:4]\n",
    "            push!(indices,map(x->parse(UInt16,x)-1,strvals)...)\n",
    "        end\n",
    "    end\n",
    "\n",
    "    # scale down object in object coordinate sytem\n",
    "    map!(x->scale*x,vertices,vertices)\n",
    "    return vertices, indices\n",
    "end\n",
    "\n",
    "v, i = load_obj(\"./objects/sphere.obj\")"
   ]
  },
  {
   "cell_type": "code",
   "execution_count": 4,
   "metadata": {},
   "outputs": [
    {
     "data": {
      "text/plain": [
       "Dict{GLFW.Window, Ref{Vector{Union{Nothing, Function}}}}()"
      ]
     },
     "metadata": {},
     "output_type": "display_data"
    }
   ],
   "source": [
    "using GLFW\n",
    "using ModernGL\n",
    "using FileIO\n",
    "using ImageMagick\n",
    "using ImageIO \n",
    "# just imported everything once\n",
    "\n",
    "include(\"utils.jl\")\n",
    "\n",
    "# create window and openGL context from utils.jl\n",
    "window = initWindow(title = \"Sphere\", callbackFunc = key_callback)\n",
    "\n",
    "# Load the vertices and indices of the sphere from the sphere.obj file using function above\n",
    "vertices, indices = load_obj(\"./objects/sphere.obj\")\n",
    "\n",
    "\n",
    "# Create a Vertex Buffer Object (VBO) and an Element Buffer Object (EBO) to store the vertex and index data\n",
    "vbo = Ref(GLuint(0))\n",
    "ebo = Ref(GLuint(0))\n",
    "\n",
    "glGenBuffers(1, vbo)\n",
    "glGenBuffers(1, ebo)\n",
    "\n",
    "glBindBuffer(GL_ARRAY_BUFFER, vbo[])\n",
    "glBufferData(GL_ARRAY_BUFFER, sizeof(vertices), vertices, GL_STATIC_DRAW)\n",
    "\n",
    "glBindBuffer(GL_ELEMENT_ARRAY_BUFFER, ebo[])\n",
    "glBufferData(GL_ELEMENT_ARRAY_BUFFER, sizeof(indices), indices, GL_STATIC_DRAW)\n",
    "\n",
    "# Vertex Array Object (VAO) and link the VBO and EBO to the VAO.\n",
    "vao = Ref(GLuint(0))\n",
    "glGenVertexArrays(1, vao)\n",
    "glBindVertexArray(vao[])\n",
    "\n",
    "glBindBuffer(GL_ARRAY_BUFFER, vbo[])\n",
    "glVertexAttribPointer(0, 3, GL_FLOAT, GL_FALSE, 0, C_NULL)\n",
    "glEnableVertexAttribArray(0)\n",
    "\n",
    "glBindBuffer(GL_ELEMENT_ARRAY_BUFFER, ebo[])\n",
    "\n",
    "# Compile the vertex and fragment shaders using the compileShaderProgram function from utils.jl\n",
    "vertex_source = \"\"\"\n",
    "#version 330 core\n",
    "\n",
    "layout (location = 0) in vec3 position;\n",
    "\n",
    "void main()\n",
    "{\n",
    "    gl_Position = vec4(position, 1.0);\n",
    "}\n",
    "\"\"\"\n",
    "\n",
    "fragment_source = \"\"\"\n",
    "#version 330 core\n",
    "\n",
    "out vec4 FragColor;\n",
    "\n",
    "void main()\n",
    "{\n",
    "    FragColor = vec4(0.5, 0.0, 0.5, 1.0);  // Fixed color (violet)\n",
    "}\n",
    "\"\"\"\n",
    "\n",
    "shader_program = compileShaderProgram(vertex_source, fragment_source)\n",
    "\n",
    "# Set the polygon mode to wireframe mode using glPolygonMode to enable drawing the wireframe\n",
    "glPolygonMode(GL_FRONT_AND_BACK, GL_LINE)\n",
    "\n",
    "# Inside the rendering loop, bind the shader program, bind the VAO, and call glDrawElements to render the sphere.\n",
    "while !GLFW.WindowShouldClose(window)\n",
    "    glClear(GL_COLOR_BUFFER_BIT)\n",
    "    \n",
    "    glUseProgram(shader_program)\n",
    "    glBindVertexArray(vao[])\n",
    "    glDrawElements(GL_TRIANGLES, length(indices), GL_UNSIGNED_INT, C_NULL)\n",
    "    \n",
    "    GLFW.SwapBuffers(window)\n",
    "    GLFW.PollEvents()\n",
    "end\n",
    "\n",
    "GLFW.DestroyWindow(window)"
   ]
  },
  {
   "attachments": {},
   "cell_type": "markdown",
   "metadata": {},
   "source": [
    "### 2. Coloring the Sphere\n",
    "\n",
    "The following code generates colors for each vertex of the sphere. This color is determined solely by the latitude of the given vertex. Moreover, we provide a method, which shuffles the order in which the faces are stored.\n",
    "\n",
    "Extend your previous code to render the colored sphere. This can be done by following the following steps:\n",
    "* store the vertices and colors in separate VBOs.\n",
    "* link both VBOs to the current VAO.\n",
    "* modify the vertex shader such that the vertex color is an additional input. The vertex should then be assigned to an additional output variable.\n",
    "* modify the fragment shader, such that the fragment color is an additional input. Assign this input as the shaders output.\n",
    "\n",
    "First render the scene without shuffling the faces. Then shuffle the faces and render the scene again. What do you observe? How do you explain your observations? "
   ]
  },
  {
   "cell_type": "code",
   "execution_count": 4,
   "metadata": {},
   "outputs": [],
   "source": [
    "using Random\n",
    "\n",
    "# load vertices and define their colors \n",
    "vertices, indices = load_obj(\"objects/sphere.obj\", 0.7)\n",
    "numVertices = div(length(vertices),3)\n",
    "vertexColor = zeros(Float32,3*numVertices)\n",
    "for i=1:numVertices\n",
    "    x,y,z = vertices[3*(i-1)+1:3*i]\n",
    "    θ = acos(z/sqrt(x^2+y^2+z^2))\n",
    "    vertexColor[3*(i-1)+1:3*i] .= Float32.([0.176 - θ/pi*0.176, 0.776 - θ/pi*0.776, 0.839 - θ/pi*0.239])\n",
    "end\n",
    "\n",
    "# permute faces\n",
    "function shuffleFaces!(indices::Vector{UInt32})\n",
    "    numFaces = div(length(indices),3)\n",
    "    p = shuffle(collect(1:numFaces))\n",
    "    # indices = reshape(indices,3,numFaces)\n",
    "    indices .= vec(reshape(indices,3,numFaces)[:,p])\n",
    "end\n",
    "\n",
    "shuffleFaces!(indices);"
   ]
  },
  {
   "cell_type": "code",
   "execution_count": 4,
   "metadata": {},
   "outputs": [
    {
     "data": {
      "text/plain": [
       "Dict{GLFW.Window, Ref{Vector{Union{Nothing, Function}}}}()"
      ]
     },
     "metadata": {},
     "output_type": "display_data"
    }
   ],
   "source": [
    "import GLFW\n",
    "using ModernGL\n",
    "using Random\n",
    "\n",
    "include(\"utils.jl\")\n",
    "\n",
    "# Create a window and a corresponding OpenGL context\n",
    "window = initWindow(title=\"Rendering Colored Sphere\", callbackFunc = key_callback)\n",
    "\n",
    "# Compile shader program\n",
    "vertex_source = \"\"\"\n",
    "#version 330 core\n",
    "layout (location = 0) in vec3 position;\n",
    "layout (location = 1) in vec3 color;\n",
    "\n",
    "out vec3 fragColor;\n",
    "\n",
    "void main()\n",
    "{\n",
    "    gl_Position = vec4(position, 1.0);\n",
    "    fragColor = color;\n",
    "}\n",
    "\"\"\"\n",
    "\n",
    "fragment_source = \"\"\"\n",
    "#version 330 core\n",
    "in vec3 fragColor;\n",
    "out vec4 FragColor;\n",
    "\n",
    "void main()\n",
    "{\n",
    "    FragColor = vec4(fragColor, 1.0);\n",
    "}\n",
    "\"\"\"\n",
    "\n",
    "shader_program = compileShaderProgram(vertex_source, fragment_source)\n",
    "\n",
    "# Load vertices and define their colors\n",
    "# vertices, indices = load_obj(\"objects/sphere.obj\")\n",
    "vertices, indices = load_obj(\"objects/sphere.obj\", 0.7)\n",
    "numVertices = div(length(vertices), 3)\n",
    "vertexColor = zeros(Float32, 3*numVertices)\n",
    "\n",
    "for i = 1:numVertices\n",
    "    x, y, z = vertices[3*(i-1)+1:3*i]\n",
    "    θ = acos(z / sqrt(x^2 + y^2 + z^2))\n",
    "    vertexColor[3*(i-1)+1:3*i] .= Float32[0.176f0 - θ / pi * 0.176f0, 0.776f0 - θ / pi * 0.776f0, 0.839f0 - θ / pi * 0.239f0]\n",
    "end\n",
    "\n",
    "# # permute faces\n",
    "# function shuffleFaces!(indices::Vector{UInt32})\n",
    "#     numFaces = div(length(indices),3)\n",
    "#     p = shuffle(collect(1:numFaces))\n",
    "#     # indices = reshape(indices,3,numFaces)\n",
    "#     indices .= vec(reshape(indices,3,numFaces)[:,p])\n",
    "# end\n",
    "\n",
    "# # Shuffle faces meaning, shuffling faces?\n",
    "# shuffleFaces!(indices)\n",
    "\n",
    "# Vertex Buffer Objects (VBOs)\n",
    "vboVertices = Ref(GLuint(0))\n",
    "glGenBuffers(1, vboVertices)\n",
    "glBindBuffer(GL_ARRAY_BUFFER, vboVertices[])\n",
    "glBufferData(GL_ARRAY_BUFFER, sizeof(vertices), vertices, GL_STATIC_DRAW)\n",
    "\n",
    "vboColors = Ref(GLuint(0))\n",
    "glGenBuffers(1, vboColors)\n",
    "glBindBuffer(GL_ARRAY_BUFFER, vboColors[])\n",
    "glBufferData(GL_ARRAY_BUFFER, sizeof(vertexColor), vertexColor, GL_STATIC_DRAW)\n",
    "\n",
    "# Vertex Array Object (VAO)\n",
    "vao = Ref(GLuint(0))\n",
    "glGenVertexArrays(1, vao)\n",
    "glBindVertexArray(vao[])\n",
    "\n",
    "# Link vertex data to attributes\n",
    "posAttribute = glGetAttribLocation(shader_program, \"position\")\n",
    "glBindBuffer(GL_ARRAY_BUFFER, vboVertices[])\n",
    "glVertexAttribPointer(posAttribute, 3, GL_FLOAT, GL_FALSE, 0, C_NULL)\n",
    "glEnableVertexAttribArray(posAttribute)\n",
    "\n",
    "colorAttribute = glGetAttribLocation(shader_program, \"color\")\n",
    "glBindBuffer(GL_ARRAY_BUFFER, vboColors[])\n",
    "glVertexAttribPointer(colorAttribute, 3, GL_FLOAT, GL_FALSE, 0, C_NULL)\n",
    "glEnableVertexAttribArray(colorAttribute)\n",
    "\n",
    "# Set wireframe mode\n",
    "glPolygonMode(GL_FRONT_AND_BACK, GL_LINE)\n",
    "\n",
    "# Main rendering loop\n",
    "while !GLFW.WindowShouldClose(window)\n",
    "    # Clear the color buffer\n",
    "    glClear(GL_COLOR_BUFFER_BIT)\n",
    "    \n",
    "    # Use the shader program\n",
    "    glUseProgram(shader_program)\n",
    "    \n",
    "    # Bind the vertex array object\n",
    "    glBindVertexArray(vao[])\n",
    "    \n",
    "    # Draw the sphere\n",
    "    glDrawElements(GL_TRIANGLES, length(indices), GL_UNSIGNED_INT, indices)\n",
    "    \n",
    "    # Swap front and back buffers\n",
    "    GLFW.SwapBuffers(window)\n",
    "    \n",
    "    # Poll for and process events\n",
    "    GLFW.PollEvents()\n",
    "end\n",
    "\n",
    "GLFW.DestroyWindow(window)"
   ]
  },
  {
   "attachments": {},
   "cell_type": "markdown",
   "metadata": {},
   "source": [
    "I don't see any difference with shuffled faces."
   ]
  },
  {
   "attachments": {},
   "cell_type": "markdown",
   "metadata": {},
   "source": [
    " ### 3. Depth-Testing\n",
    " \n",
    "Modify your code such that depth-testing is enabled. This can be achieved with the code `glEnable(GL_DEPTH_TEST)`.\n",
    "Furthermore, depth-testing requires you to clear the depth-buffer-bit in each rendering cycle. This can be done using `glClear(GL_COLOR_BUFFER_BIT | GL_DEPTH_BUFFER_BIT)`.\n",
    "\n",
    "Use your code to render the sphere, after shuffling its faces. OpenGL supports multiple depth functions which can be set using the method `glDepthFunc(func)`. Valid depthfunctions include `GL_NEVER`, `GL_LESS`, `GL_EQUAL` and `GL_GREATER`, among others. \n",
    "Play around with the different depth-functions until the sphere looks like one expects it to."
   ]
  },
  {
   "cell_type": "code",
   "execution_count": 6,
   "metadata": {},
   "outputs": [],
   "source": []
  },
  {
   "attachments": {},
   "cell_type": "markdown",
   "metadata": {},
   "source": [
    "### 4. Texture Mapping\n",
    "\n",
    "A more practical way of coloring objects is texture mapping.\n",
    "\n",
    "Let us turn our sphere into the saturn. For this purpose we use the texture map `tex/saturn.png`. The 2-dimensional texture coordinates of the vertices are given in the following cell.\n",
    "\n",
    "Extend the code, such that the fragment shader outputs the corresponding color in the texture map. To achieve this, the following steps need to be taken:\n",
    "* Modify the vertex shader such that the texture coordinate is passed through, analogously to the color in exercise 1.\n",
    "* Add a `uniform sampler2d satTex` to the fragment shader. Have the fragment shader return the RGBA-values contained in the corresponding location of the texture. In order to sample the texture at a coordtinate `ftCoordinate`, you can use the function call `texture(satTex, ftCoordinate)`.\n",
    "* To store the texture coordinates you can use a VBO as in the previous task. \n",
    "* Setting up the texture itself works analously to setting up a VBO. This requires you to use the functions `glGenTextures` and `glBindTexture`.\n",
    "* Finally, one should specify the wrapping behaviour of the texture map for the s- and t-coordinates. This can be done by setting the parameters `GL_TEXTURE_WRAP_S` and `GL_TEXTURE_WRAP_T` with the functions  `glTexParameteri`.\n",
    "* Specifying the texture image can be done using the function `glTexImage2D`.\n",
    "* Set the parameters `GL_TEXTURE_MIN_FILTER` and `GL_TEXTURE_MAG_FILTER`.\n",
    "\n",
    "What is the significance of the parameters `GL_TEXTURE_MIN_FILTER` and `GL_TEXTURE_MAG_FILTER`? What do you observe, when changing the functions used?"
   ]
  },
  {
   "cell_type": "code",
   "execution_count": 7,
   "metadata": {},
   "outputs": [],
   "source": [
    "planetVertices, planetIndices = load_obj(\"objects/sphere.obj\",0.4)\n",
    "\n",
    "# texture coordinatest\n",
    "planetUV = zeros(Float32, 2*div(length(planetVertices),3))\n",
    "r = maximum(planetVertices)\n",
    "for i=0:div(length(planetVertices),3)-1\n",
    "    xi,yi,zi = planetVertices[3*i+1:3*i+3]\n",
    "    planetUV[2*i+2] = (atan(yi,xi)/pi+1)*0.5\n",
    "    planetUV[2*i+1] = acos(yi/sqrt(xi^2+yi^2+zi^2))/pi\n",
    "end"
   ]
  },
  {
   "cell_type": "code",
   "execution_count": 8,
   "metadata": {},
   "outputs": [],
   "source": []
  },
  {
   "attachments": {},
   "cell_type": "markdown",
   "metadata": {},
   "source": [
    "### 5. Lambert Shading\n",
    "\n",
    "Render the previous scene with Lambert shading. This requires you to perform the following steps:\n",
    "* Compute the normal vectors for each vertex. For this purpose, first compute the normal vectors for all faces. Then calculate the normal for a vertex by averaging the normal vectors of the faces which that vertex contributes to.\n",
    "* Implement Lambert shading in the fragment shader. This requires you to pass the normal vectors through the vertex shader. In order to have access to the position associated with each fragment, one can simply assign the vertex positions to an additional output variable in the vertex shader. During rasterization, a corresponding position variable will be attached to each fragment. This variable then becomes an input to the fragment shader and is thus available for lighting computations.\n",
    "* Build an additional VBO to store the normal vectors."
   ]
  },
  {
   "cell_type": "code",
   "execution_count": 9,
   "metadata": {},
   "outputs": [],
   "source": []
  },
  {
   "cell_type": "code",
   "execution_count": 10,
   "metadata": {},
   "outputs": [],
   "source": []
  },
  {
   "attachments": {},
   "cell_type": "markdown",
   "metadata": {},
   "source": [
    "### B1. Instancing\n",
    "\n",
    "Next, we are going to add an asteroid field to our scene. The latter will be formed by rendering the same rock object at different positions around the planet. \n",
    "\n",
    "The direct way to approach this is to have to have multiple calls to `glDrawElements` - namely one for each rock. Prior to each rendering call, a new shift-vector is specified via a uniform. This approach is not optimal, because each rendering call requires a significant amount of data-movement over the CPU-to-GPU bus. Thus, performance is not limited by the actual rendering of the vertices but rather by the data-transfer associated with each draw-command.\n",
    "\n",
    "Instancing is a way to draw multiple instances of an object using a single-rendering call. This implies that all the data needed for the rendering needs to be passed to the GPU only once.\n",
    "\n",
    "To render our planet with the asteroid field using instancing, we start by generating a new window. Then we load vertices and indices of the rock object. Additionally, we compute its normal vectors and we generate a randomized array of shifts to position the rocks around the planet."
   ]
  },
  {
   "cell_type": "code",
   "execution_count": 11,
   "metadata": {},
   "outputs": [
    {
     "ename": "UndefVarError",
     "evalue": "UndefVarError: normalVectors not defined",
     "output_type": "error",
     "traceback": [
      "UndefVarError: normalVectors not defined\n",
      "\n",
      "Stacktrace:\n",
      " [1] top-level scope\n",
      "   @ d:\\TUHH_ICS\\Sem3_SS23\\Computer Graphics\\Exercises\\4_Rasterization\\Rasterization_Exercise.ipynb:10"
     ]
    }
   ],
   "source": [
    "# planet coordinates\n",
    "planetVertices, planetIndices = load_obj(\"objects/sphere.obj\",0.4)\n",
    "planetUV = zeros(Float32, 2*div(length(planetVertices),3))\n",
    "r = maximum(planetVertices)\n",
    "for i=0:div(length(planetVertices),3)-1\n",
    "    xi,yi,zi = planetVertices[3*i+1:3*i+3]\n",
    "    planetUV[2*i+2] = (atan(yi,xi)/pi+1)*0.5\n",
    "    planetUV[2*i+1] = acos(yi/sqrt(xi^2+yi^2+zi^2))/pi\n",
    "end\n",
    "planetNormals = normalVectors(planetVertices, planetIndices);\n",
    "\n",
    "# rock\n",
    "rockVertices, rockIndices = load_obj(\"objects/rock.obj\",0.005)\n",
    "rockNormals = normalVectors(rockVertices, rockIndices)\n",
    "\n",
    "# translation vectors\n",
    "numRocks = 10000\n",
    "r0 = 0.6\n",
    "trans = Matrix{Float32}(undef,3,numRocks)\n",
    "# rotation around the x axis\n",
    "Random.seed!(1234)\n",
    "θ = deg2rad(30)\n",
    "R = Float32[1 0 0; 0 cos(θ) sin(θ); 0 -sin(θ) cos(θ)]\n",
    "for i=1:numRocks\n",
    "    ϕ = 2*pi*rand()\n",
    "    y = 0.1*(rand()-0.5)\n",
    "    r = r0+0.2*rand()\n",
    "    trans[:,i] = R*Float32.( [r*cos(ϕ), y, r*sin(ϕ)] )\n",
    "end\n",
    "\n",
    "trans = vec(trans);"
   ]
  },
  {
   "attachments": {},
   "cell_type": "markdown",
   "metadata": {},
   "source": [
    "We need two shader programs. The first one is the shader program for the planet itself, which we have implemented in the previous exercise. \n",
    "\n",
    "Implement an additional set of shaders for the rocks. The vertex shader should have three inputs:\n",
    "* the vertex position in \"object coordinates\"\n",
    "* the normal vector\n",
    "* a translation vector\n",
    "\n",
    "In the vertex shader, the shifted vertex position should be assigned to `glPosition`. Moreover, it should output the shifted vertex position and the normal vector.\n",
    "\n",
    "The fragment shader should implement Lambert shading. For simplicity we do not use a texture map for the rock. Instead all rock fragments should have the color (0.3,0.3,0.3,1.0) in RGBA coordinates."
   ]
  },
  {
   "cell_type": "code",
   "execution_count": 12,
   "metadata": {},
   "outputs": [],
   "source": []
  },
  {
   "attachments": {},
   "cell_type": "markdown",
   "metadata": {},
   "source": [
    "Now render the complete scene: \n",
    "\n",
    "* To render the planet, use the same VAO, VBOs and EBO as in the previous task. \n",
    "* Create a second VAO (and associated VBOs and EBO) for the rocks. For this part you will need three VBOs - for the vertices, the normal vectors and the translation vectors. Make sure to tell OpenGL, that the shift vector should be updated everytime when we start to render a new instance. This can be achieved using the method `glVertexAttribDivisor(index, 1)`, where `index` refers to the index of the attribute (i.e. the shift vectors).\n",
    "* For instanced rendering, the draw command `glDrawElements` needs to be replaced with `glDrawElementsInstanced`. Check the OpenGL documentation for details about the method's parameters. \n",
    "* Make sure to activate the correct VAO and the correct shader program before each draw command. This can be done using the methods `glBindVertexArray` and `glUseProgram`"
   ]
  },
  {
   "cell_type": "code",
   "execution_count": 13,
   "metadata": {},
   "outputs": [],
   "source": []
  },
  {
   "attachments": {},
   "cell_type": "markdown",
   "metadata": {},
   "source": [
    "### B2. Cube Maps\n",
    "Cube maps are a combination of 6 2d texture maps. By combining these texture maps, one can assign a unique texture for all possible direction vectors. This yields a powerful technique, which can be used to generate texure-map based backgrounds for instance.\n",
    "\n",
    "In order to add a background to our scene, we can use the cube map contained in the folder `tex/milkyway`. We then render an additional cube spanning the volume $[-1,1]^3$. Each point of the cube should be colored according to the corresponding value in the cube map. To generate the vertices and face indices of the cube execute the following code, which loads the vertex data of all the objects considered so far.\n",
    "\n",
    "Note that you are not required to render the asteroid belt of taks B1 in this exercise. However, you are free to do so if you want."
   ]
  },
  {
   "cell_type": "code",
   "execution_count": 14,
   "metadata": {},
   "outputs": [
    {
     "ename": "UndefVarError",
     "evalue": "UndefVarError: normalVectors not defined",
     "output_type": "error",
     "traceback": [
      "UndefVarError: normalVectors not defined\n",
      "\n",
      "Stacktrace:\n",
      " [1] top-level scope\n",
      "   @ d:\\TUHH_ICS\\Sem3_SS23\\Computer Graphics\\Exercises\\4_Rasterization\\Rasterization_Exercise.ipynb:6"
     ]
    }
   ],
   "source": [
    "######################\n",
    "# vertices and indices\n",
    "######################\n",
    "# planet\n",
    "planetVertices, planetIndices = load_obj(\"objects/sphere.obj\",0.4)\n",
    "planetNormals = normalVectors(planetVertices, planetIndices)\n",
    "planetUV = zeros(Float32, 2*div(length(planetVertices),3))\n",
    "r = maximum(planetVertices)\n",
    "for i=0:div(length(planetVertices),3)-1\n",
    "    xi,yi,zi = planetVertices[3*i+1:3*i+3]\n",
    "    planetUV[2*i+2] = (atan(yi,xi)/pi+1)*0.5\n",
    "    planetUV[2*i+1] = acos(yi/sqrt(xi^2+yi^2+zi^2))/pi\n",
    "end\n",
    "\n",
    "# skybox\n",
    "# front face\n",
    "v1 = Float32[-1.0,-1.0,1.0, 1.0,-1.0,1.0, 1.0, 1.0,1.0, -1.0, 1.0,1.0]\n",
    "# back face\n",
    "v2 = Float32[1.0,-1.0,-1.0, -1.0,-1.0,-1.0, -1.0, 1.0,-1.0, 1.0, 1.0,-1.0]\n",
    "# right face\n",
    "v3 = Float32[1.0,-1.0,1.0, 1.0,-1.0,-1.0, 1.0,1.0,-1.0, 1.0,1.0,1.0]\n",
    "# left face\n",
    "v4 = Float32[-1.0,-1.0,-1.0, -1.0,-1.0,1.0, -1.0,1.0,1.0, -1.0,1.0,-1.0]\n",
    "# top face\n",
    "v5 = Float32[-1.0,1.0,1.0, 1.0,1.0,1.0, 1.0,1.0,-1.0, -1.0,1.0,-1.0]\n",
    "# bottom face\n",
    "v6 = Float32[-1.0,-1.0,-1.0, 1.0,-1.0,-1.0, 1.0,-1.0,1.0, -1.0,-1.0,1.0]\n",
    "\n",
    "# indices for triangles\n",
    "skyboxIndices = UInt32[0,1,2,\n",
    "                2,3,0,\n",
    "                4,5,6,\n",
    "                6,7,4,\n",
    "                8,9,10,\n",
    "                10,11,8,\n",
    "                12,13,14,\n",
    "                14,15,12,\n",
    "                16,17,18,\n",
    "                18,19,16,\n",
    "                20,21,22,\n",
    "                22,23,20]\n",
    "\n",
    "skyboxVertices = vcat(v1,v2,v3,v4,v5,v6)\n",
    "\n",
    "# rock\n",
    "rockVertices, rockIndices = load_obj(\"objects/rock.obj\",0.005)\n",
    "rockNormals = normalVectors(rockVertices, rockIndices);"
   ]
  },
  {
   "attachments": {},
   "cell_type": "markdown",
   "metadata": {},
   "source": [
    "Implement an additional set of shaders which we are going to use for the skybox. The vertex shader should assign the vertex position to the variable `gl_Position`. Moreover, the 3d-texture coordinates should be passed on to the fragment shader. The fragment shader should determine the output color by sampling the cube map. To do so, the cube map needs to be passed to the shader as a `uniform samplerCube skyTex`. The texture can then be sampled using `texture(skyTex, texCoords)`. "
   ]
  },
  {
   "cell_type": "code",
   "execution_count": 15,
   "metadata": {},
   "outputs": [],
   "source": []
  },
  {
   "attachments": {},
   "cell_type": "markdown",
   "metadata": {},
   "source": [
    "Generate a window, compile the shader programs and set up the data structures (VAO,..,) for the rest of the scene (not including the skybox). For this purpose you can use the code you generated in the previous tasks."
   ]
  },
  {
   "cell_type": "code",
   "execution_count": 16,
   "metadata": {},
   "outputs": [],
   "source": []
  },
  {
   "attachments": {},
   "cell_type": "markdown",
   "metadata": {},
   "source": [
    "Now, set up the data structures for the skybox. As was done before, the data associated needs to be stored in a separate VAO and corresponding VBOs and EBO.\n",
    "\n",
    "To generate the corresponding texture and bind it to the texture target one can proceed like with a regular texture map, albeit with a different target\n",
    "```\n",
    "texture = Array{GLuint}(undef,1)\n",
    "glGenTextures(1, texture)\n",
    "glBindTexture(GL_TEXTURE_2D, texture[1])\n",
    "```\n",
    "In order to load the six textures, one needs to call `glTexImage2D` six times with the targets `GL_TEXTURE_CUBE_MAP_POSITIVE_X`, `GL_TEXTURE_CUBE_MAP_NEGATIVE_X` ,`GL_TEXTURE_CUBE_MAP_POSITIVE_Y`, `GL_TEXTURE_CUBE_MAP_NEGATIVE_Y`, `GL_TEXTURE_CUBE_MAP_POSITIVE_Z`, `GL_TEXTURE_CUBE_MAP_NEGATIVE_Z`. The textures in the folder have the format RGBA. So make sure to specify it correctly.\n",
    "\n",
    "Analogously to regular texture maps, we need to specify their wrapping behaviour. However, in this case we need to call `glTexParameteri` for three parameters `GL_TEXTURE_WRAP_S`, `GL_TEXTURE_WRAP_T` and `GL_TEXTURE_WRAP_R`."
   ]
  },
  {
   "cell_type": "code",
   "execution_count": 17,
   "metadata": {},
   "outputs": [],
   "source": []
  },
  {
   "attachments": {},
   "cell_type": "markdown",
   "metadata": {},
   "source": [
    "Finally, let us render the complete scene.\n",
    "Before rendering the skybox, use the following code\n",
    "```\n",
    "glDepthMask(GL_FALSE)\n",
    "glUseProgram(skybox_shader)\n",
    "glBindVertexArray(skyboxVAO[1])\n",
    "```\n",
    "After rendering the skybox turn the DepthMask back on (`glDepthMask(GL_TRUE)`) and render the rest of the scene."
   ]
  },
  {
   "cell_type": "code",
   "execution_count": 18,
   "metadata": {},
   "outputs": [],
   "source": []
  },
  {
   "cell_type": "code",
   "execution_count": 19,
   "metadata": {},
   "outputs": [],
   "source": []
  }
 ],
 "metadata": {
  "@webio": {
   "lastCommId": null,
   "lastKernelId": null
  },
  "hide_input": false,
  "kernelspec": {
   "display_name": "Julia 1.8.5",
   "language": "julia",
   "name": "julia-1.8"
  },
  "language_info": {
   "file_extension": ".jl",
   "mimetype": "application/julia",
   "name": "julia",
   "version": "1.8.5"
  }
 },
 "nbformat": 4,
 "nbformat_minor": 2
}
