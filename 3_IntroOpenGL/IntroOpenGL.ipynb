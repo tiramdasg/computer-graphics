{
 "cells": [
  {
   "attachments": {},
   "cell_type": "markdown",
   "metadata": {},
   "source": [
    "<table style=\"width: 100%; border-style: none\">\n",
    " <tbody>\n",
    "  <tr style=\"border-style: none\">\n",
    "   <td style=\"border-style: none; width: 1%; text-align: left; font-size: 16px\">Institute for Biomedical Imaging<br />Hamburg University of Technology</td>\n",
    "   <td style=\"border-style: none; width: 1%; font-size: 16px\">&nbsp;</td>\n",
    "   <td style=\"border-style: none; width: 1%; text-align: right; font-size: 16px\">Dr. Martin Möddel<br />Mirco Grosser<br />Marija Boberg</td>\n",
    "  </tr>\n",
    " </tbody>\n",
    "</table>\n",
    "<hr>\n",
    "<h1 style=\"font-weight:bold; text-align: center; margin: 0px; padding:0px;\">Computer Graphics</h1>\n",
    "<h1 style=\"font-weight:bold; text-align: center; margin: 0px; padding:0px;\">Exercise 3 - Getting Started with OpenGL</h1>\n",
    "<h3 style=\"font-weight:bold; text-align: center; margin: 0px; padding:0px; margin-bottom: 20px;\">summer term 2023</h3>\n",
    "<hr>"
   ]
  },
  {
   "attachments": {},
   "cell_type": "markdown",
   "metadata": {},
   "source": [
    "## 0. Get started OpenGL\n",
    "For this exercise you need to install the julia packages `ModernGL` and `GLFW` via the package manager with `] add ModernGL GLFW`. For GLFW you need to install the following packages first:\n",
    "* Linux: sudo apt install cmake libxrandr-dev libxinerama-dev libxcursor-dev\n",
    "* Windows/MacOS: install cmake from https://cmake.org/\n",
    "\n",
    "Your grafic card drivers need to support the minimum OpenGL v.3.2 so you need to check for that.\n",
    "* Linux: glxinfo | grep \"version\"\n",
    "* Windows: https://support.pix4d.com/hc/en-us/articles/203876689-How-to-verify-that-the-Driver-of-the-Graphics-Card-supports-OpenGL-3-2\n",
    "\n",
    "Most code snippets and examples are taken from existing tutorials and can be found here.\n",
    "* https://open.gl/\n",
    "* https://learnopengl.com/\n",
    "* http://www.opengl-tutorial.org/beginners-tutorials/\n",
    "\n",
    "Documentations:\n",
    "* GLFW http://www.glfw.org/documentation.html\n",
    "* OpenGL https://www.khronos.org/registry/OpenGL-Refpages/gl4/\n"
   ]
  },
  {
   "attachments": {},
   "cell_type": "markdown",
   "metadata": {},
   "source": [
    "## 1. Setting up a window and event-loop using GLFW\n",
    "\n",
    "Before working with OpenGL, we need to care of the creation of a window and OpenGL context (basically a state maschine holding all data related to rendering).\n",
    "The creation of a window and OpenGL context is platform dependent and not part of the OpenGL specification. Therefore, we use abstraction libraries (GLFW in our case) to handle window creation, OpenGL context creation and input handling. This lets us focus on the OpenGL application itself.\n",
    "\n",
    "The following code imports the library, creates a window and opens an event loop which does nothing but swap the back- and front buffer periodically, without drawing anything. Furthermore, we add a call-back function, such that the window closes when the `esc` button is pressed. \n",
    "\n",
    "Since the setup will be similar in the following examples, we wrap the window generation in a separate function."
   ]
  },
  {
   "cell_type": "code",
   "execution_count": 11,
   "metadata": {},
   "outputs": [
    {
     "data": {
      "text/plain": [
       "Dict{GLFW.Window, Ref{Vector{Union{Nothing, Function}}}}()"
      ]
     },
     "execution_count": 11,
     "metadata": {},
     "output_type": "execute_result"
    }
   ],
   "source": [
    "import GLFW  # we focus exclusively on the GLFW approach\n",
    "using ModernGL\n",
    "\n",
    "# create a window and a corresponding OpenGL context\n",
    "function initWindow(;windowSize::NTuple{2,Int64}=(800,600), title::String=\"window 1\", callbackFunc=key_callback)\n",
    "\n",
    "    # The GLFW package calls GLFW.Init() automatically when loaded\n",
    "\n",
    "    # Specify minimum versions\n",
    "    GLFW.WindowHint(GLFW.CONTEXT_VERSION_MAJOR, 3)  # minimum OpenGL v. 3\n",
    "    GLFW.WindowHint(GLFW.CONTEXT_VERSION_MINOR, 2)  # minimum OpenGL v. 3.2\n",
    "    GLFW.WindowHint(GLFW.OPENGL_PROFILE, GLFW.OPENGL_CORE_PROFILE)\n",
    "    GLFW.WindowHint(GLFW.OPENGL_FORWARD_COMPAT, GL_TRUE)\n",
    "\n",
    "    # Create the window\n",
    "    GLFW.WindowHint(GLFW.RESIZABLE, GL_FALSE)\n",
    "    window = GLFW.CreateWindow(windowSize[1], windowSize[2], title)  # windowed\n",
    "    GLFW.MakeContextCurrent(window)\n",
    "\n",
    "    # This is a touch added from\n",
    "    #   http://www.opengl-tutorial.org/beginners-tutorials/tutorial-1-opening-a-window/:\n",
    "    # Retain keypress events until the next call to GLFW.GetKey, even if\n",
    "    # the key has been released in the meantime\n",
    "    GLFW.SetInputMode(window, GLFW.STICKY_KEYS, GL_TRUE)\n",
    "\n",
    "    GLFW.SetKeyCallback(window,callbackFunc)\n",
    "\n",
    "    return window\n",
    "end\n",
    "\n",
    "function key_callback(window::GLFW.Window, key::GLFW.Key, scancode::Int32, action::GLFW.Action, mods::Int32)\n",
    "    # close window when the esc-key is pressed\n",
    "    if (key == GLFW.KEY_ESCAPE && action == GLFW.PRESS)\n",
    "        GLFW.SetWindowShouldClose(window, true)\n",
    "    end\n",
    "end\n",
    "\n",
    "window = initWindow(title=\"1. Window\", callbackFunc=key_callback)\n",
    "\n",
    "# Draw nothing, while waiting for a close event\n",
    "while !GLFW.WindowShouldClose(window)\n",
    "    \n",
    "    # Render here\n",
    "    glClear(GL_COLOR_BUFFER_BIT)\n",
    "    \n",
    "    # Swap front and back buffers\n",
    "    GLFW.SwapBuffers(window)\n",
    "    \n",
    "    # Poll for and process events\n",
    "    GLFW.PollEvents()    \n",
    "end\n",
    "GLFW.DestroyWindow(window)  # needed if you're running this from the REPL\n",
    "# GLFW.Terminate() is called automatically upon exit"
   ]
  },
  {
   "attachments": {},
   "cell_type": "markdown",
   "metadata": {},
   "source": [
    "## 2. Our First Triangle\n",
    "\n",
    "Let us draw a simple triangle. This requires us to do the following things:\n",
    "* Implement a basic vertex shader and a fragment shader\n",
    "* Compile the shader programs\n",
    "* Store the vertices of the triangle in a Vertex Buffer Object (VBO)\n",
    "* Generate a Vertex Array Object (VAO) and bind the VBO to it\n",
    "* Modify the event-loop such that the object is drawn in each iteration\n",
    "\n",
    "Let us start with the setting up a window and OpenGL context just as we did before"
   ]
  },
  {
   "cell_type": "code",
   "execution_count": 12,
   "metadata": {},
   "outputs": [
    {
     "data": {
      "text/plain": [
       "GLFW.Window(Ptr{Nothing} @0x00000000052aa290)"
      ]
     },
     "execution_count": 12,
     "metadata": {},
     "output_type": "execute_result"
    }
   ],
   "source": [
    "window = initWindow(title=\"Triangle\", callbackFunc=key_callback)"
   ]
  },
  {
   "attachments": {},
   "cell_type": "markdown",
   "metadata": {},
   "source": [
    "The vertex shader and fragment shader are written in the OpenGL Shader Language (GLSL). \n",
    "To store the sorce code, we use triple quoted string literals, as in `vertex_source = \"\"\"...\"\"\"`.\n",
    "More informations on the types supported by GLSL can be found here: http://learnwebgl.brown37.net/12_shader_language/glsl_data_types.html.\n",
    "\n",
    "Here, we are going to implement the simplest shaders possible.\n",
    "* The input to the vertex shader is the 2d-coordinate of each vertex. The vertex shader then sets these as the x- and y-coordinates of the 4-Vector `gl_Position`.\n",
    "* The output of the fragment shader determines the output color for each fragment. In this case we simply return the same color for all fragments."
   ]
  },
  {
   "cell_type": "code",
   "execution_count": 13,
   "metadata": {},
   "outputs": [
    {
     "data": {
      "text/plain": [
       "\"# version 150\\nout vec4 outColor;\\nvoid main()\\n{\\n    outColor = vec4(0.176, 0.776, 0.839, 1.0);\\n}\\n\""
      ]
     },
     "execution_count": 13,
     "metadata": {},
     "output_type": "execute_result"
    }
   ],
   "source": [
    "### implement vertex and fragment shader in GLSL (OpenGL Shading Language) ###\n",
    "\n",
    "# The vertex shader\n",
    "vertex_source = \"\"\"\n",
    "#version 150\n",
    "in vec2 position;\n",
    "void main()\n",
    "{\n",
    "    gl_Position = vec4(position, 0.0, 1.0);\n",
    "}\n",
    "\"\"\"\n",
    "\n",
    "# The fragment shader #(1.0, 0.0, 0.0, 1.0)\n",
    "fragment_source = \"\"\"\n",
    "# version 150\n",
    "out vec4 outColor;\n",
    "void main()\n",
    "{\n",
    "    outColor = vec4(0.176, 0.776, 0.839, 1.0);\n",
    "}\n",
    "\"\"\""
   ]
  },
  {
   "attachments": {},
   "cell_type": "markdown",
   "metadata": {},
   "source": [
    "Next, let us compile the shaders and form the shader program. Again, we wrap this into a separate function, because this code snippet occurs in all of the following examples."
   ]
  },
  {
   "cell_type": "code",
   "execution_count": 14,
   "metadata": {},
   "outputs": [
    {
     "data": {
      "text/plain": [
       "0x00000003"
      ]
     },
     "execution_count": 14,
     "metadata": {},
     "output_type": "execute_result"
    }
   ],
   "source": [
    "function compileShaderProgram(vertex_source::String, fragment_source::String)\n",
    "   # Compile the vertex shader\n",
    "    vertex_shader = glCreateShader(GL_VERTEX_SHADER)\n",
    "    vertex_shader_Ptr = Ptr{UInt8}[pointer(vertex_source)]\n",
    "    lenVert = Ref{GLint}(length(vertex_source))\n",
    "    glShaderSource(vertex_shader,1, vertex_shader_Ptr, lenVert)\n",
    "    glCompileShader(vertex_shader)\n",
    "\n",
    "    # Check for compilation errors\n",
    "    status = Ref(GLint(0))\n",
    "    glGetShaderiv(vertex_shader, GL_COMPILE_STATUS, status)\n",
    "    if status[] != GL_TRUE\n",
    "        buffer = Array(UInt8, 512)\n",
    "        glGetShaderInfoLog(vertex_shader, 512, C_NULL, buffer)\n",
    "        error(unsafe_string(buffer))\n",
    "    end\n",
    "\n",
    "    # Compile the fragment shader\n",
    "    fragment_shader = glCreateShader(GL_FRAGMENT_SHADER)\n",
    "    fragment_shader_Ptr = Ptr{UInt8}[pointer(fragment_source)]\n",
    "    lenFrag = Ref{GLint}(length(fragment_source))\n",
    "    glShaderSource(fragment_shader, 1, fragment_shader_Ptr, lenFrag)\n",
    "    glCompileShader(fragment_shader)\n",
    "\n",
    "    #Check for compilation errors\n",
    "    statusFrag=Ref(GLint(0))\n",
    "    glGetShaderiv(fragment_shader, GL_COMPILE_STATUS, statusFrag)\n",
    "    if statusFrag[] != GL_TRUE\n",
    "        buffer = Array(UInt8,512)\n",
    "        glGetShaderInfoLog(fragment_shader, 512, C_NULL, buffer)\n",
    "        error(unsafe_string(buffer))\n",
    "    end\n",
    "\n",
    "    shader_program = glCreateProgram();\n",
    "    glAttachShader(shader_program, vertex_shader);\n",
    "    glAttachShader(shader_program, fragment_shader);\n",
    "\n",
    "    glLinkProgram(shader_program)\n",
    "    glUseProgram(shader_program)\n",
    "\n",
    "    return shader_program\n",
    "end\n",
    "\n",
    "shader_program = compileShaderProgram(vertex_source, fragment_source)"
   ]
  },
  {
   "attachments": {},
   "cell_type": "markdown",
   "metadata": {},
   "source": [
    "Let us define a triangle with vertices (0,0.5), (0.5,-0.5) and (-0.5,-0.5). In order to store them in a VBO, we store the vertex coordinates in a `Vector{Float32}`.\n",
    "The following lines of code generate a VBO and assign the vertex data to it.\n",
    "\n",
    "Next we need to generate the VAO and make it current.\n",
    "The VAO is used to link the vertex data to the attributes in the shader programs. This can be done in different places. However, the VAO needs be made current before calling `glVertexAttribPointer` and before creating any Element Buffer Objects."
   ]
  },
  {
   "cell_type": "code",
   "execution_count": 15,
   "metadata": {},
   "outputs": [],
   "source": [
    "vertices = [0.0f0,0.5f0, 0.5f0,-0.5f0, -0.5f0,-0.5f0] # note Float32\n",
    "\n",
    "# Vertex Buffer Object (VBO)\n",
    "vbo = Ref(GLuint(0))   # initial value is irrelevant, just allocate space\n",
    "glGenBuffers(1, vbo)   # generate one Buffer object name and store it in vbo\n",
    "glBindBuffer(GL_ARRAY_BUFFER, vbo[])   # bind the buffer to target GL_ARRAY_BUFFER (i.e. vertex attributes)\n",
    "glBufferData(GL_ARRAY_BUFFER, sizeof(vertices), vertices, GL_STATIC_DRAW)   # assign vertex data to the buffer\n",
    "\n",
    "# Vertex Array Object (VAO)\n",
    "vao = Ref(GLuint(0))\n",
    "glGenVertexArrays(1, vao)    # generate 1 vertex array object names\n",
    "glBindVertexArray(vao[])     # bind the vertex array object\n",
    "\n",
    "# Link vertex data to attributes\n",
    "pos_attribute = glGetAttribLocation(shader_program, \"position\")    # get the location of the variable \"position\" in the shader_program\n",
    "glVertexAttribPointer(pos_attribute, 2, GL_FLOAT, GL_FALSE, 0, C_NULL) # define location and data format of the position attribute data\n",
    "glEnableVertexAttribArray(pos_attribute)    # enable the vertex attribute array\n",
    "\n",
    "# background color\n",
    "glClearColor(0.2f0, 0.3f0, 0.3f0, 1.0f0)"
   ]
  },
  {
   "attachments": {},
   "cell_type": "markdown",
   "metadata": {},
   "source": [
    "The event loop is extended by the function call `glDrawArrays(GL_TRIANGLES, 0, 3)`. Here the parameters specify:\n",
    "* what kind of primitives to render (`GL_TRIANGLES`).\n",
    "* the starting index (0)\n",
    "* the number of vertices to be rendered (3)"
   ]
  },
  {
   "cell_type": "code",
   "execution_count": 16,
   "metadata": {},
   "outputs": [
    {
     "data": {
      "text/plain": [
       "Dict{GLFW.Window, Ref{Vector{Union{Nothing, Function}}}}()"
      ]
     },
     "execution_count": 16,
     "metadata": {},
     "output_type": "execute_result"
    }
   ],
   "source": [
    "# Draw nothing, while waiting for a close event\n",
    "while !GLFW.WindowShouldClose(window)\n",
    "    \n",
    "    # Render here\n",
    "    glClear(GL_COLOR_BUFFER_BIT)\n",
    "    glDrawArrays(GL_TRIANGLES, 0, 3)\n",
    "    \n",
    "    # Swap front and back buffers\n",
    "    GLFW.SwapBuffers(window)\n",
    "    \n",
    "    # Poll for and process events\n",
    "    GLFW.PollEvents()    \n",
    "end\n",
    "GLFW.DestroyWindow(window)  # needed if you're running this from the REPL"
   ]
  },
  {
   "attachments": {},
   "cell_type": "markdown",
   "metadata": {},
   "source": [
    "## 3. Element Buffer Objects\n",
    "\n",
    "For more complex objects, it does not make sense to repeat vertices for each primitive which they occur in. In order to specify the vertices associated with each primitives, one can use vertex element objects (EBOs).\n",
    "\n",
    "Let us extend our code by an EBO and use it to draw a square.\n",
    "\n",
    "The window setup and the shader program remain unchanged."
   ]
  },
  {
   "cell_type": "code",
   "execution_count": 17,
   "metadata": {},
   "outputs": [
    {
     "data": {
      "text/plain": [
       "0x00000003"
      ]
     },
     "execution_count": 17,
     "metadata": {},
     "output_type": "execute_result"
    }
   ],
   "source": [
    "# setup window and OpenGL context\n",
    "window = initWindow(title=\"Square\", callbackFunc=key_callback)\n",
    "# compile shader program\n",
    "shader_program = compileShaderProgram(vertex_source, fragment_source)"
   ]
  },
  {
   "attachments": {},
   "cell_type": "markdown",
   "metadata": {},
   "source": [
    "The sequence to generate an EBO is exactly the same as the one used to generate VBOs. The only difference is that the buffer object needs to be bound to the target `GL_ELEMENT_BUFFER`. Moreover, the EBO needs to be created after creation of the current VAO.  "
   ]
  },
  {
   "cell_type": "code",
   "execution_count": 18,
   "metadata": {},
   "outputs": [],
   "source": [
    "# The vertices of our triangle\n",
    "vertices = Float32[0.5,0.5, 0.5,-0.5, -0.5,-0.5, -0.5,0.5]\n",
    "indices = UInt32[0,1,3, 1,2,3]\n",
    "\n",
    "vbo = Ref(GLuint(0))   # initial value is irrelevant, just allocate space\n",
    "glGenBuffers(1, vbo)   # generate one Buffer object name and store it in vbo\n",
    "glBindBuffer(GL_ARRAY_BUFFER, vbo[])   # bind the buffer to target GL_ARRAY_BUFFER (i.e. vertex attributes)\n",
    "glBufferData(GL_ARRAY_BUFFER, sizeof(vertices), vertices, GL_STATIC_DRAW)   # assign vertex data to the buffer\n",
    "\n",
    "# Vertex Array Object (VAO)\n",
    "vao = Ref(GLuint(0))\n",
    "glGenVertexArrays(1, vao)    # generate 1 vertex array object names\n",
    "glBindVertexArray(vao[]) \n",
    "\n",
    "# Element Buffer object\n",
    "ebo = Array{GLuint}(undef,1)\n",
    "glGenBuffers(1, ebo)\n",
    "glBindBuffer(GL_ELEMENT_ARRAY_BUFFER, ebo[1])\n",
    "glBufferData(GL_ELEMENT_ARRAY_BUFFER, sizeof(indices), indices, GL_STATIC_DRAW)\n",
    "\n",
    "# Link vertex data to attributes\n",
    "pos_attribute = glGetAttribLocation(shader_program, \"position\")    # get the location of the variable \"position\" in the shader_program\n",
    "glVertexAttribPointer(pos_attribute, 2, GL_FLOAT, GL_FALSE, 0, C_NULL) # define location and data format of the position attribute data\n",
    "glEnableVertexAttribArray(pos_attribute)    # enable the vertex attribute array\n",
    "\n",
    "# background color\n",
    "glClearColor(0.2f0, 0.3f0, 0.3f0, 1.0f0)"
   ]
  },
  {
   "attachments": {},
   "cell_type": "markdown",
   "metadata": {},
   "source": [
    "The event loop stays almost the same. Note however that the draw call needs to be modified for indexed data"
   ]
  },
  {
   "cell_type": "code",
   "execution_count": 19,
   "metadata": {},
   "outputs": [
    {
     "data": {
      "text/plain": [
       "Dict{GLFW.Window, Ref{Vector{Union{Nothing, Function}}}}()"
      ]
     },
     "execution_count": 19,
     "metadata": {},
     "output_type": "execute_result"
    }
   ],
   "source": [
    "# Draw nothing, while waiting for a close event\n",
    "while !GLFW.WindowShouldClose(window)\n",
    "    \n",
    "    # Render here\n",
    "    glClear(GL_COLOR_BUFFER_BIT)\n",
    "    # Different draw call for indexed data\n",
    "    glDrawElements(GL_TRIANGLES, 6, GL_UNSIGNED_INT, C_NULL)\n",
    "    \n",
    "    # Swap front and back buffers\n",
    "    GLFW.SwapBuffers(window)\n",
    "    \n",
    "    # Poll for and process events\n",
    "    GLFW.PollEvents()    \n",
    "end\n",
    "GLFW.DestroyWindow(window)  # needed if you're running this from the REPL"
   ]
  },
  {
   "attachments": {},
   "cell_type": "markdown",
   "metadata": {},
   "source": [
    "## 4. Uniforms and key-callbacks\n",
    "An important concept in OpenGL are uniforms. These variables cannot change during the excecution of the shaders. However, they can be modified between shader executions.\n",
    "\n",
    "Add a `uniform vec2 dxy` to the fragment shader which shifts the vertices by the given amount.\n",
    "In order to link a given vector `Δxy` to the uniform you can use the following code\n",
    "```\n",
    "dxyLocation = glGetUniformLocation(shader_program, \"dxy\")\n",
    "glUniform2f(dxyLocation, Δxy[1], Δxy[2])\n",
    "\n",
    "```\n",
    "Now modify the funcion `key_callack`, such that the image is shifted to the left/right/up/down by 0.1, when the corresponding left/right/up/down arrow keys are pressed. The relevant key codes are `GLFW.KEY_LEFT`, `GLFW.KEY_RIGHT`, `GLFW.KEY_UP`and `GLFW.KEY_DOWN`. \n",
    "\n",
    "*Note:* when modifying a global variable `Δxy` from inside a function, the assignment must be prefixed with the keyword `global`\n"
   ]
  },
  {
   "cell_type": "code",
   "execution_count": 20,
   "metadata": {},
   "outputs": [
    {
     "data": {
      "text/plain": [
       "Dict{GLFW.Window, Ref{Vector{Union{Nothing, Function}}}}()"
      ]
     },
     "execution_count": 20,
     "metadata": {},
     "output_type": "execute_result"
    }
   ],
   "source": [
    "function key_callback(window::GLFW.Window, key::GLFW.Key, scancode::Int32, action::GLFW.Action, mods::Int32)\n",
    "    # close window when the esc-key is pressed\n",
    "    if (key == GLFW.KEY_ESCAPE && action == GLFW.PRESS)\n",
    "        GLFW.SetWindowShouldClose(window, true)\n",
    "    # movements of the object\n",
    "    elseif (key == GLFW.KEY_RIGHT && action == GLFW.PRESS)\n",
    "        global Δxy .+= [0.1f0, 0.0f0]\n",
    "        dxyLocation = glGetUniformLocation(shader_program, \"dxy\")\n",
    "        # glUniform2fv(dxyLocation, 1, Δxy)\n",
    "        glUniform2f(dxyLocation, Δxy[1], Δxy[2])\n",
    "    elseif (key == GLFW.KEY_LEFT && action == GLFW.PRESS)\n",
    "        global Δxy .-= [0.1f0, 0.0f0]\n",
    "        dxyLocation = glGetUniformLocation(shader_program, \"dxy\")\n",
    "        # glUniform2fv(dxyLocation, 1, Δxy)\n",
    "        glUniform2f(dxyLocation, Δxy[1], Δxy[2])\n",
    "    elseif (key == GLFW.KEY_UP && action == GLFW.PRESS)\n",
    "        global Δxy .+= [0.0f0, 0.1f0]\n",
    "        dxyLocation = glGetUniformLocation(shader_program, \"dxy\")\n",
    "        # glUniform2fv(dxyLocation, 1, Δxy)\n",
    "        glUniform2f(dxyLocation, Δxy[1], Δxy[2])\n",
    "    elseif (key == GLFW.KEY_DOWN && action == GLFW.PRESS)\n",
    "        global Δxy .-= [0.0f0, 0.1f0]\n",
    "        dxyLocation = glGetUniformLocation(shader_program, \"dxy\")\n",
    "        # glUniform2fv(dxyLocation, 1, Δxy)\n",
    "        glUniform2f(dxyLocation, Δxy[1], Δxy[2])\n",
    "    end\n",
    "end\n",
    "\n",
    "# setup window and OpenGL context\n",
    "window = initWindow(title=\"Square\", callbackFunc=key_callback)\n",
    "\n",
    "### implement vertex and fragment shader in GLSL (OpenGL Shading Language) ###\n",
    "\n",
    "# The vertex shader\n",
    "vertex_source = \"\"\"\n",
    "#version 150\n",
    "in vec2 position;\n",
    "uniform vec2 dxy;\n",
    "\n",
    "void main()\n",
    "{\n",
    "    gl_Position = vec4(position+dxy, 0.0, 1.0);\n",
    "}\n",
    "\"\"\"\n",
    "\n",
    "# The fragment shader\n",
    "fragment_source = \"\"\"\n",
    "# version 150\n",
    "out vec4 outColor;\n",
    "void main()\n",
    "{\n",
    "    outColor = vec4(0.176, 0.776, 0.839, 1.0);\n",
    "}\n",
    "\"\"\"\n",
    "\n",
    "# compile shader program\n",
    "shader_program = compileShaderProgram(vertex_source, fragment_source)\n",
    "\n",
    "# The vertices of our triangle\n",
    "vertices = Float32[0.5,0.5,0.5,-0.5,-0.5,-0.5,-0.5,0.5]\n",
    "indices = UInt32[0,1,3,1,2,3]\n",
    "\n",
    "vbo = Ref(GLuint(0))   # initial value is irrelevant, just allocate space\n",
    "glGenBuffers(1, vbo)   # generate one Buffer object name and store it in vbo\n",
    "glBindBuffer(GL_ARRAY_BUFFER, vbo[])   # bind the buffer to target GL_ARRAY_BUFFER (i.e. vertex attributes)\n",
    "glBufferData(GL_ARRAY_BUFFER, sizeof(vertices), vertices, GL_STATIC_DRAW)   # assign vertex data to the buffer\n",
    "\n",
    "# Vertex Array Object (VAO)\n",
    "vao = Ref(GLuint(0))\n",
    "glGenVertexArrays(1, vao)    # generate 1 vertex array object names\n",
    "glBindVertexArray(vao[]) \n",
    "\n",
    "# Element Buffer object\n",
    "ebo = Array{GLuint}(undef,1)\n",
    "glGenBuffers(1, ebo)\n",
    "glBindBuffer(GL_ELEMENT_ARRAY_BUFFER, ebo[1])\n",
    "glBufferData(GL_ELEMENT_ARRAY_BUFFER, sizeof(indices), indices, GL_STATIC_DRAW)\n",
    "\n",
    "# Link vertex data to attributes\n",
    "pos_attribute = glGetAttribLocation(shader_program, \"position\")    # get the location of the variable \"position\" in the shader_program\n",
    "glVertexAttribPointer(pos_attribute, 2, GL_FLOAT, GL_FALSE, 0, C_NULL) # define location and data format of the position attribute data\n",
    "glEnableVertexAttribArray(pos_attribute)    # enable the vertex attribute array\n",
    "\n",
    "# background color\n",
    "glClearColor(0.2f0, 0.3f0, 0.3f0, 1.0f0)\n",
    "\n",
    "# uniform describing the shift\n",
    "Δxy = [0.0f0, 0.0f0]\n",
    "dxyLocation = glGetUniformLocation(shader_program, \"dxy\")\n",
    "# glUniform2fv(dxyLocation, 1,Δxy)\n",
    "glUniform2f(dxyLocation, Δxy[1], Δxy[2])\n",
    "\n",
    "# Draw nothing, while waiting for a close event\n",
    "while !GLFW.WindowShouldClose(window)\n",
    "    \n",
    "    # Render here\n",
    "    glClear(GL_COLOR_BUFFER_BIT)\n",
    "    # Different draw call for indexed data\n",
    "    glDrawElements(GL_TRIANGLES, 6, GL_UNSIGNED_INT, C_NULL)\n",
    "    \n",
    "    # Swap front and back buffers\n",
    "    GLFW.SwapBuffers(window)\n",
    "    \n",
    "    # Poll for and process events\n",
    "    GLFW.PollEvents()    \n",
    "end\n",
    "GLFW.DestroyWindow(window)  # needed if you're running this from the REPL"
   ]
  },
  {
   "cell_type": "code",
   "execution_count": null,
   "metadata": {},
   "outputs": [],
   "source": []
  }
 ],
 "metadata": {
  "@webio": {
   "lastCommId": null,
   "lastKernelId": null
  },
  "hide_input": false,
  "kernelspec": {
   "display_name": "Julia 1.7.2",
   "language": "julia",
   "name": "julia-1.7"
  },
  "language_info": {
   "file_extension": ".jl",
   "mimetype": "application/julia",
   "name": "julia",
   "version": "1.7.2"
  }
 },
 "nbformat": 4,
 "nbformat_minor": 2
}
